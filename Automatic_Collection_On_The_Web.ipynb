{
  "nbformat": 4,
  "nbformat_minor": 0,
  "metadata": {
    "colab": {
      "name": "Automatic_Collection_On_The_Web.ipynb",
      "provenance": [],
      "authorship_tag": "ABX9TyOIjoP4WQktP8K4LVNmlUpp"
    },
    "kernelspec": {
      "name": "python3",
      "display_name": "Python 3"
    },
    "language_info": {
      "name": "python"
    }
  },
  "cells": [
    {
      "cell_type": "markdown",
      "metadata": {
        "id": "0GOfg8LXpgGV"
      },
      "source": [
        "# FlickarAPIを使ったweb画像の自動収集"
      ]
    },
    {
      "cell_type": "code",
      "metadata": {
        "id": "Dxclxv3epYQy"
      },
      "source": [
        "from flickrapi import FlickrAPI\n",
        "from urllib.request import urlretrieve\n",
        "from pprint import pprint\n",
        "import os, time, sys\n",
        "\n",
        "#API Keyの情報\n",
        "\n",
        "key = \"5398efb30774f4317b469f5da6f87ef9\"\n",
        "secret = \"cbef148a51962e14\"\n",
        "wait_time = 1\n",
        "\n",
        "#保存フォルダの指定\n",
        "animalname = sys.argv[1]\n",
        "savedir = \"./\" + animalname\n",
        "\n",
        "flickr = FlickrAPI(key, secret, format='parsed-json')\n",
        "result = flickr.photos.search(\n",
        "    text = animalname,\n",
        "    per_page = 400,\n",
        "    media = 'photos',\n",
        "    sort = 'relevance',\n",
        "    safe_search = 1,\n",
        "    extras = 'url_q, licence'\n",
        ")\n",
        "\n",
        "photos = result['photos']\n",
        "#返り値を表示する\n",
        "#pprint(photos)\n",
        "\n",
        "for i, photo in enumerate(photos['photo']):\n",
        "    url_q = photo['url_q']\n",
        "    filepath = savedir + '/' + photo['id'] + '.jpg'\n",
        "    if os.path.exists(filepath): continue\n",
        "    urlretrieve(url_q, filepath)\n",
        "    time.sleep(wait_time)"
      ],
      "execution_count": null,
      "outputs": []
    }
  ]
}